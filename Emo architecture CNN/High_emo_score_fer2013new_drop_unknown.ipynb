{
 "cells": [
  {
   "cell_type": "markdown",
   "metadata": {},
   "source": [
    "# Create a training and test/val dataframe to build a Keras CNN.. "
   ]
  },
  {
   "cell_type": "markdown",
   "metadata": {},
   "source": [
    "#### One training and one test/validation dataframe can be constructed to be used in creating a Keras CNN with flow_from_dataframedataframe with the highest score for every image in FER+ from fer2013new.csv "
   ]
  },
  {
   "cell_type": "code",
   "execution_count": 1,
   "metadata": {},
   "outputs": [],
   "source": [
    "import numpy as np\n",
    "import pandas as pd"
   ]
  },
  {
   "cell_type": "markdown",
   "metadata": {},
   "source": [
    "### Read in fer2013new.csv from FER+ dataset "
   ]
  },
  {
   "cell_type": "markdown",
   "metadata": {},
   "source": [
    "fer = pd.read_csv('/home/becode/AI/Data/Bagaar/Fer2013/fer2013Plus/fer2013new.csv')\n",
    "print(fer.shape)\n",
    "print(fer.info())\n",
    "print(fer.head(10))"
   ]
  },
  {
   "cell_type": "code",
   "execution_count": 3,
   "metadata": {},
   "outputs": [],
   "source": [
    "emo = {'neutral' :0, 'happiness' : 1,  'surprise':2 , 'sadness':3, 'anger':4, 'disgust':5, 'fear':6, 'contempt':7}"
   ]
  },
  {
   "cell_type": "markdown",
   "metadata": {},
   "source": [
    "### Drop missing images"
   ]
  },
  {
   "cell_type": "code",
   "execution_count": 5,
   "metadata": {},
   "outputs": [
    {
     "name": "stdout",
     "output_type": "stream",
     "text": [
      "(35714, 12)\n",
      "(35714, 12)\n"
     ]
    }
   ],
   "source": [
    "fer = fer.dropna(axis=0,subset= ['Image name'])\n",
    "print(fer.shape)"
   ]
  },
  {
   "cell_type": "markdown",
   "metadata": {},
   "source": [
    "### Find highest emotion score per image"
   ]
  },
  {
   "cell_type": "code",
   "execution_count": 6,
   "metadata": {},
   "outputs": [],
   "source": [
    "fer['emo']= fer[['neutral','happiness','surprise','sadness','anger','disgust','fear','contempt']].idxmax(axis=1)"
   ]
  },
  {
   "cell_type": "markdown",
   "metadata": {},
   "source": [
    "### Select train and test/val images from labels and split in 2 dataframes "
   ]
  },
  {
   "cell_type": "code",
   "execution_count": 7,
   "metadata": {},
   "outputs": [
    {
     "name": "stdout",
     "output_type": "stream",
     "text": [
      "           Image name      emo\n",
      "0      fer0000000.png  neutral\n",
      "1      fer0000001.png  neutral\n",
      "2      fer0000002.png  neutral\n",
      "3      fer0000003.png  neutral\n",
      "4      fer0000004.png  neutral\n",
      "...               ...      ...\n",
      "28704  fer0028633.png     fear\n",
      "28705  fer0028634.png    anger\n",
      "28706  fer0028635.png  sadness\n",
      "28707  fer0028636.png  neutral\n",
      "28708  fer0028637.png  neutral\n",
      "\n",
      "[28561 rows x 2 columns]\n",
      "           Image name        emo\n",
      "28709  fer0028638.png    neutral\n",
      "28710  fer0028639.png   contempt\n",
      "28711  fer0028640.png    neutral\n",
      "28712  fer0028641.png    neutral\n",
      "28713  fer0028642.png  happiness\n",
      "...               ...        ...\n",
      "35881  fer0035796.png    neutral\n",
      "35882  fer0035797.png    neutral\n",
      "35884  fer0035799.png      anger\n",
      "35885  fer0035800.png  happiness\n",
      "35886  fer0035801.png    sadness\n",
      "\n",
      "[7153 rows x 2 columns]\n"
     ]
    }
   ],
   "source": [
    "train = fer[fer['Usage']=='Training']\n",
    "train = train[['Image name','emo']]\n",
    "print(train)\n",
    "vali = fer[(fer['Usage']=='PrivateTest') | (fer['Usage']=='PublicTest')]\n",
    "vali = vali[['Image name','emo']]\n",
    "print(vali)"
   ]
  },
  {
   "cell_type": "markdown",
   "metadata": {},
   "source": [
    "### Write train and test/val dataframe"
   ]
  },
  {
   "cell_type": "code",
   "execution_count": 8,
   "metadata": {},
   "outputs": [],
   "source": [
    "train = train.to_csv('/home/becode/AI/Data/Bagaar/Fer2013/fer2013Plus/FER2013Train/train1.csv')"
   ]
  },
  {
   "cell_type": "code",
   "execution_count": 9,
   "metadata": {},
   "outputs": [],
   "source": [
    "vali = vali.to_csv('/home/becode/AI/Data/Bagaar/Fer2013/fer2013Plus/FER2013TestValid/vali1.csv')"
   ]
  }
 ],
 "metadata": {
  "kernelspec": {
   "display_name": "skyebase",
   "language": "python",
   "name": "skyebase"
  },
  "language_info": {
   "codemirror_mode": {
    "name": "ipython",
    "version": 3
   },
   "file_extension": ".py",
   "mimetype": "text/x-python",
   "name": "python",
   "nbconvert_exporter": "python",
   "pygments_lexer": "ipython3",
   "version": "3.8.5"
  }
 },
 "nbformat": 4,
 "nbformat_minor": 4
}

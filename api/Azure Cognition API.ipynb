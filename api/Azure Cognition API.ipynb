{
 "cells": [
  {
   "cell_type": "code",
   "execution_count": null,
   "metadata": {},
   "outputs": [],
   "source": [
    "# Retrieve emotion detection model scores from Azure Cognition Face API\n",
    "# Sign-up to Azure https://azure.microsoft.com/en-us/free/  and \n",
    "\n",
    "import json, os, requests\n",
    "\n",
    "subscription_key = '' #Enter KEY here\n",
    "assert subscription_key\n",
    "\n",
    "#Enter ENDPOINT here\n",
    "FACE_ENDPOINT = 'https://westcentralus.api.cognitive.microsoft.com/'\n",
    "\n",
    "face_api_url = FACE_ENDPOINT + '/face/v1.0/detect'\n",
    "\n",
    "#Example image url\n",
    "image_url = 'https://upload.wikimedia.org/wikipedia/commons/thumb/a/ad/Angelina_Jolie_2_June_2014_%28cropped%29.jpg/220px-Angelina_Jolie_2_June_2014_%28cropped%29.jpg'\n",
    "\n",
    "headers = {'Ocp-Apim-Subscription-Key': subscription_key}\n",
    "\n",
    "#Set parameters for request\n",
    "params = {\n",
    "    'detectionModel': 'detection_01',\n",
    "    'returnFaceAttributes': 'emotion',\n",
    "    'returnFaceId': 'true'\n",
    "}\n",
    "\n",
    "#Send request\n",
    "response = requests.post(face_api_url, params=params,\n",
    "                         headers=headers, json={\"url\": image_url})\n",
    "\n",
    "#Print response\n",
    "print(json.dumps(response.json()))"
   ]
  }
 ],
 "metadata": {
  "kernelspec": {
   "display_name": "Python 3",
   "language": "python",
   "name": "python3"
  },
  "language_info": {
   "codemirror_mode": {
    "name": "ipython",
    "version": 3
   },
   "file_extension": ".py",
   "mimetype": "text/x-python",
   "name": "python",
   "nbconvert_exporter": "python",
   "pygments_lexer": "ipython3",
   "version": "3.8.5"
  }
 },
 "nbformat": 4,
 "nbformat_minor": 4
}
